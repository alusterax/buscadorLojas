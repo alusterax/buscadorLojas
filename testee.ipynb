{
 "cells": [
  {
   "cell_type": "code",
   "execution_count": null,
   "metadata": {},
   "outputs": [],
   "source": [
    "import time\n",
    "import threading\n",
    "from os import getcwd\n",
    "from datetime import datetime\n",
    "from selenium import webdriver\n",
    "from selenium.webdriver.chrome.service import Service\n",
    "from selenium.webdriver.support import expected_conditions as EC\n",
    "from selenium.webdriver.support.ui import WebDriverWait, Select\n",
    "from selenium.webdriver.common.keys import Keys\n",
    "from selenium.webdriver.common.by import By\n",
    "from selenium.webdriver.common.action_chains import ActionChains\n",
    "from webdriver_manager.chrome import ChromeDriverManager\n",
    "from selenium.common.exceptions import UnexpectedAlertPresentException, StaleElementReferenceException, NoSuchElementException\n",
    "from selenium.common.exceptions import ElementClickInterceptedException, ElementNotInteractableException, NoSuchElementException\n",
    "from selenium.common.exceptions import TimeoutException, InvalidSessionIdException\n",
    "import logging\n",
    "from tenacity import *\n",
    "from dataclasses import dataclass\n",
    "\n",
    "from re import sub\n",
    "from decimal import Decimal"
   ]
  },
  {
   "cell_type": "code",
   "execution_count": null,
   "metadata": {},
   "outputs": [],
   "source": [
    "current_dir = getcwd()\n",
    "prefs = {'download.default_directory' : f'{current_dir}/Downloads',\n",
    "        'credentials_enable_service': False, 'profile.password_manager_enabled' : False}\n",
    "chrome_options = webdriver.ChromeOptions()\n",
    "chrome_options.add_argument(\"--log-level=3\")\n",
    "chrome_options.add_argument(\"--start-maximized\")\n",
    "chrome_options.add_experimental_option('prefs', prefs)\n",
    "chrome_options.add_experimental_option(\"excludeSwitches\", [\"enable-logging\"])\n",
    "chrome_options.add_experimental_option(\"excludeSwitches\",[\"enable-automation\"])\n",
    "chrome_options.add_experimental_option(\"useAutomationExtension\", False)"
   ]
  },
  {
   "cell_type": "code",
   "execution_count": null,
   "metadata": {},
   "outputs": [],
   "source": [
    "\n",
    "website = 'https://www.pichau.com.br/hardware/placa-de-video'\n",
    "s=Service(ChromeDriverManager(log_level=logging.CRITICAL,path=current_dir).install())\n",
    "driver = webdriver.Chrome(service=s,options=chrome_options, service_log_path='NUL')\n",
    "driver.get(website)"
   ]
  },
  {
   "cell_type": "code",
   "execution_count": null,
   "metadata": {},
   "outputs": [],
   "source": [
    "running = False\n",
    "processedCards = []"
   ]
  },
  {
   "cell_type": "code",
   "execution_count": null,
   "metadata": {},
   "outputs": [],
   "source": [
    "@dataclass\n",
    "class Placa():\n",
    "    nome:str\n",
    "    preco:Decimal\n",
    "    link:str"
   ]
  },
  {
   "cell_type": "code",
   "execution_count": null,
   "metadata": {},
   "outputs": [],
   "source": [
    "def searchPichau():\n",
    "\n",
    "    global processedCards, running\n",
    "\n",
    "    if (EC.any_of(EC.visibility_of_element_located((By.XPATH, '//*[@id=\"rcc-confirm-button\"]')))(driver)):\n",
    "        driver.find_element(By.XPATH,'//*[@id=\"rcc-confirm-button\"]').click()\n",
    "\n",
    "    WebDriverWait(driver, 5).until(EC.invisibility_of_element_located((By.XPATH, '//*[@id=\"rcc-confirm-button\"]')))\n",
    "\n",
    "    orderBox = By.ID, 'demo-customized-select'\n",
    "    loading = By.CSS_SELECTOR, '#__next > main > div.MuiBackdrop-root.dark-mode'\n",
    "    driver.find_element(*orderBox).click()\n",
    "    pathMenor = By.XPATH, '//*[@id=\"menu-\"]/div[3]/ul/li[4]'\n",
    "\n",
    "    WebDriverWait(driver, 5).until(EC.visibility_of_element_located(pathMenor)).click()\n",
    "    time.sleep(2)\n",
    "    WebDriverWait(driver, 10).until(EC.all_of(EC.text_to_be_present_in_element(orderBox, 'Menor valor'),EC.invisibility_of_element_located(loading)))\n",
    "    running = True\n",
    "    \n",
    "    selPages = By.XPATH, '//*[@id=\"__next\"]/main/div[2]/div/div[1]/nav/ul'\n",
    "    selNext = By.XPATH, 'li[9]/button'\n",
    "    \n",
    "    while running:\n",
    "        searchPage()\n",
    "        print('Analisando nova pagina...')\n",
    "        pages = driver.find_element(*selPages)\n",
    "        action = ActionChains(driver)\n",
    "        nextBtn = pages.find_element(*selNext)\n",
    "        action.move_to_element(nextBtn).perform()\n",
    "        time.sleep(1)\n",
    "        nextBtn.click()\n",
    "        time.sleep(5)\n",
    "\n",
    "    print(f'Consulta finalizada!. {len(processedCards)} placas processadas.')"
   ]
  },
  {
   "cell_type": "code",
   "execution_count": null,
   "metadata": {},
   "outputs": [],
   "source": [
    "def searchPage():\n",
    "    global processedCards, running\n",
    "\n",
    "    placas = [a for a in driver.find_elements(By.CSS_SELECTOR, \"[data-cy*='list-product']\")]\n",
    "\n",
    "    for placa in placas:\n",
    "        if running:\n",
    "            details = placa.find_element(By.CLASS_NAME, 'MuiCardContent-root')\n",
    "            if EC.all_of(EC.visibility_of_element_located((By.CLASS_NAME,'jss191')))(details):\n",
    "                running = False\n",
    "                break\n",
    "\n",
    "            link = placa.get_attribute('href')\n",
    "            nome = details.find_element(By.TAG_NAME, 'h2').text\n",
    "            preco = details.find_element(By.CLASS_NAME, 'jss200').text.replace('.','').replace(',','.')\n",
    "            \n",
    "            preco = Decimal(sub(r'[^\\d.]', '', preco))\n",
    "            placa = Placa(link=link,nome=nome,preco=preco)\n",
    "            processedCards.append(placa)"
   ]
  },
  {
   "cell_type": "code",
   "execution_count": null,
   "metadata": {},
   "outputs": [],
   "source": [
    "searchPichau()"
   ]
  },
  {
   "cell_type": "code",
   "execution_count": null,
   "metadata": {},
   "outputs": [],
   "source": [
    "[a for a in processedCards if a.preco>2000 and a.preco<5000]"
   ]
  }
 ],
 "metadata": {
  "interpreter": {
   "hash": "97de8518cb7100b076c82d03c053e60fabcdb732583c061eab2051f6010f4d85"
  },
  "kernelspec": {
   "display_name": "Python 3.10.4 64-bit",
   "language": "python",
   "name": "python3"
  },
  "language_info": {
   "codemirror_mode": {
    "name": "ipython",
    "version": 3
   },
   "file_extension": ".py",
   "mimetype": "text/x-python",
   "name": "python",
   "nbconvert_exporter": "python",
   "pygments_lexer": "ipython3",
   "version": "3.10.4"
  },
  "orig_nbformat": 4
 },
 "nbformat": 4,
 "nbformat_minor": 2
}
